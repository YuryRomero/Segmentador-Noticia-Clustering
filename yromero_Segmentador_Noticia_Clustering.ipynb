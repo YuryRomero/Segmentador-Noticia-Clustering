{
 "cells": [
  {
   "cell_type": "code",
   "execution_count": 63,
   "metadata": {},
   "outputs": [],
   "source": [
    "#Importar libreria para vectorizar\n",
    "from gensim.models import Doc2Vec\n",
    "from gensim.models.doc2vec import TaggedDocument"
   ]
  },
  {
   "cell_type": "code",
   "execution_count": 64,
   "metadata": {
    "collapsed": true
   },
   "outputs": [],
   "source": [
    "class Documents(object):\n",
    "    def __init__(self, documents):\n",
    "        self.documents = documents\n",
    "\n",
    "    def __iter__(self):\n",
    "        for i, doc in enumerate(self.documents):\n",
    "            yield TaggedDocument(words = doc, tags = [i])"
   ]
  },
  {
   "cell_type": "code",
   "execution_count": 65,
   "metadata": {
    "collapsed": true
   },
   "outputs": [],
   "source": [
    "#Cargamos el Modelo de Vector de Noticias ya entrenado\n",
    "modelo_vector_noticia = Doc2Vec.load(\"noticias-dataset.model\")"
   ]
  },
  {
   "cell_type": "code",
   "execution_count": 96,
   "metadata": {
    "collapsed": true
   },
   "outputs": [],
   "source": [
    "from sklearn.cluster import KMeans\n",
    "Numero_Clusters = 5\n",
    "vectores = modelo_vector_noticia.docvecs\n",
    "\n",
    "kmeans = KMeans(Numero_Clusters)\n",
    "#entrenando el modelo con noticias vectorizadas para que genere los clusters\n",
    "kmeans = kmeans.fit(vectores)\n",
    "#Tipo de Noticia\n",
    "#0 Espectaculo\n",
    "#1 Tecnologia\n",
    "#2 <no definido>\n",
    "#3 Politica\n",
    "#4 Deporte"
   ]
  },
  {
   "cell_type": "code",
   "execution_count": 101,
   "metadata": {
    "collapsed": true
   },
   "outputs": [],
   "source": [
    "#guardando el modelo\n",
    "import pickle\n",
    "modelo_cluster_noticia = 'noticias-clusterize.model'\n",
    "pickle.dump(kmeans, open(modelo_cluster_noticia, 'wb'))"
   ]
  },
  {
   "cell_type": "code",
   "execution_count": 105,
   "metadata": {
    "collapsed": true
   },
   "outputs": [],
   "source": [
    "#cargamos el modelo entrenado\n",
    "modelo_kmean_noticia = pickle.load(open(\"noticias-clusterize.model\", 'rb'))"
   ]
  },
  {
   "cell_type": "code",
   "execution_count": 134,
   "metadata": {},
   "outputs": [],
   "source": [
    "#cargamos noticias a verificar a que tipo de noticia pertenecen\n",
    "data_noticia_clusterize = open(\"data_noticia_clusterize.txt\", \"r\",encoding=\"utf8\")\n",
    "lista_noticia = data_noticia_clusterize.read().lower().split(\"\\n\\n\")\n",
    "cantidad_noticias = len(lista_noticia)"
   ]
  },
  {
   "cell_type": "code",
   "execution_count": 135,
   "metadata": {},
   "outputs": [],
   "source": [
    "#Vectorizamos las noticias a segmentar\n",
    "#funcion genera array de palabras\n",
    "def convierte_array_palabra(text):\n",
    "    return ''.join([x if x.isalnum() or x.isspace() else \" \" for x in text ]).split()\n",
    "\n",
    "vector_noticia = []\n",
    "\n",
    "for i, t in enumerate(lista_noticia):\n",
    "    #Creamos la lista de vectores en base al modelo historico de noticias\n",
    "    #1.-Convertimos el texto de la noticia en un arreglo de palabras para vectorizar\n",
    "    vector_noticia.append(modelo_vector_noticia.infer_vector(convierte_array_palabra(t)))"
   ]
  },
  {
   "cell_type": "code",
   "execution_count": 138,
   "metadata": {
    "collapsed": true
   },
   "outputs": [],
   "source": [
    "#Segmentamos las noticias\n",
    "segmento_tipo_noticias = kmeans.predict(vector_noticia)\n",
    "#Ubicamos los centroides\n",
    "centroids = kmeans.cluster_centers_"
   ]
  },
  {
   "cell_type": "code",
   "execution_count": 143,
   "metadata": {},
   "outputs": [
    {
     "name": "stdout",
     "output_type": "stream",
     "text": [
      "[1 4 1 ..., 1 4 0]\n"
     ]
    }
   ],
   "source": [
    "#Pintamos las etiquetas de las noticias\n",
    "#Tipo de Noticia\n",
    "#0 Espectaculo\n",
    "#1 Tecnologia\n",
    "#2 <no definido>\n",
    "#3 Politica\n",
    "#4 Deporte\n",
    "print(segmento_tipo_noticias)"
   ]
  }
 ],
 "metadata": {
  "kernelspec": {
   "display_name": "Python 3",
   "language": "python",
   "name": "python3"
  },
  "language_info": {
   "codemirror_mode": {
    "name": "ipython",
    "version": 3
   },
   "file_extension": ".py",
   "mimetype": "text/x-python",
   "name": "python",
   "nbconvert_exporter": "python",
   "pygments_lexer": "ipython3",
   "version": "3.6.3"
  }
 },
 "nbformat": 4,
 "nbformat_minor": 2
}
